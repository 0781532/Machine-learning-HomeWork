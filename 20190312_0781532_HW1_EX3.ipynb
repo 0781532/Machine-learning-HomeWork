{
 "cells": [
  {
   "cell_type": "code",
   "execution_count": 1,
   "metadata": {},
   "outputs": [
    {
     "name": "stdout",
     "output_type": "stream",
     "text": [
      "x = -3 y = 1 z= 3\n",
      "Quadrants : IV\n"
     ]
    }
   ],
   "source": [
    "#return from 1 to 8\n",
    "def checkQuadrants(x,y,z) :\n",
    "\n",
    "\treturnuadrants = [8,-1,5,7,4,6,1,3,-1,2] # by magic\n",
    "\tsx = x/abs(x) # sign of x\n",
    "\tsy = y/abs(y) # sign of y\n",
    "\tsz = z/abs(z) # sign of z\n",
    "\treturn   returnuadrants[(int)(((2*sx-3*sy+4*sz)+9)/2)] #magic\n",
    "\n",
    "#mapping from the magic formula to the quadrants \n",
    "#1 +++ 6\n",
    "#2 +-+ 9\n",
    "#3 --+ 7\n",
    "#4 -++ 4\n",
    "#5 ++- 2\n",
    "#6 +-- 5\n",
    "#7 --- 3\n",
    "#8 -+- 0\n",
    "\n",
    "#convert 1-8 to \n",
    "quadrantsConvert= [\"0\",\"I\",\"II\",\"III\",\"IV\",\"V\",\"VI\",\"VII\",\"VII\"]\n",
    "\n",
    "x,y,z= -3,1,3\n",
    "print ( \"x = \" + str(x) + \" y = \" + str(y) + \" z= \" + str(z))\n",
    "print (\"Quadrants : \"  + quadrantsConvert[(checkQuadrants(x,y,z))])\n"
   ]
  },
  {
   "cell_type": "code",
   "execution_count": null,
   "metadata": {},
   "outputs": [],
   "source": []
  }
 ],
 "metadata": {
  "kernelspec": {
   "display_name": "Python 3",
   "language": "python",
   "name": "python3"
  },
  "language_info": {
   "codemirror_mode": {
    "name": "ipython",
    "version": 3
   },
   "file_extension": ".py",
   "mimetype": "text/x-python",
   "name": "python",
   "nbconvert_exporter": "python",
   "pygments_lexer": "ipython3",
   "version": "3.7.2"
  }
 },
 "nbformat": 4,
 "nbformat_minor": 2
}
